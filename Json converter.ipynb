{
 "cells": [
  {
   "attachments": {},
   "cell_type": "markdown",
   "metadata": {},
   "source": [
    "# Import libraries"
   ]
  },
  {
   "cell_type": "code",
   "execution_count": 1,
   "metadata": {},
   "outputs": [],
   "source": [
    "import pandas as pd\n",
    "import json\n",
    "import os\n",
    "import glob"
   ]
  },
  {
   "attachments": {},
   "cell_type": "markdown",
   "metadata": {},
   "source": [
    "# Collect the filenames into list"
   ]
  },
  {
   "cell_type": "code",
   "execution_count": 2,
   "metadata": {},
   "outputs": [],
   "source": [
    "allfile = []\n",
    "\n",
    "path = os.getcwd()\n",
    "\n",
    "files = glob.glob(path + \"**/*.json\", recursive=True)\n",
    "\n",
    "for filename in files:\n",
    "    allfile.append(filename)\n"
   ]
  },
  {
   "attachments": {},
   "cell_type": "markdown",
   "metadata": {},
   "source": [
    "# Save tweets"
   ]
  },
  {
   "cell_type": "code",
   "execution_count": null,
   "metadata": {},
   "outputs": [],
   "source": [
    "\n",
    "df = pd.DataFrame()   #Create empty dataframe\n",
    "\n",
    "#Loop through all json files, append to dataframe\n",
    "for i in range(0,len(allfile)):\n",
    "    print(allfile[i])\n",
    "    # Load json data from file\n",
    "    with open(allfile[i]) as f:\n",
    "        adict = json.load(f)\n",
    "\n",
    "        # Use json normalize for nested dictionaries\n",
    "        result = pd.json_normalize(adict['data'])\n",
    "        df = df.append(result, ignore_index=True)\n",
    "\n",
    "df.to_pickle('ethereum_tweets.pkl')\n"
   ]
  }
 ],
 "metadata": {
  "kernelspec": {
   "display_name": "MLFenv",
   "language": "python",
   "name": "python3"
  },
  "language_info": {
   "codemirror_mode": {
    "name": "ipython",
    "version": 3
   },
   "file_extension": ".py",
   "mimetype": "text/x-python",
   "name": "python",
   "nbconvert_exporter": "python",
   "pygments_lexer": "ipython3",
   "version": "3.9.16"
  },
  "orig_nbformat": 4,
  "vscode": {
   "interpreter": {
    "hash": "737bd3e0976d60ca799851c839f91960efb19d361293b4772c927e7c090f3b9e"
   }
  }
 },
 "nbformat": 4,
 "nbformat_minor": 2
}
